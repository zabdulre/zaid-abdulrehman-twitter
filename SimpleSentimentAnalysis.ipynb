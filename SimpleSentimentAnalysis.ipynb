{
  "nbformat": 4,
  "nbformat_minor": 0,
  "metadata": {
    "colab": {
      "name": "SimpleSentimentAnalysis.ipynb",
      "provenance": [],
      "collapsed_sections": []
    },
    "kernelspec": {
      "name": "python3",
      "display_name": "Python 3"
    },
    "language_info": {
      "name": "python"
    }
  },
  "cells": [
    {
      "cell_type": "code",
      "source": [
        "import pandas as Pandas\n",
        "import numpy as Numpy\n",
        "import tensorflow.keras as Keras\n",
        "import sklearn as Sklearn\n",
        "import tensorflow as Tf\n",
        "from sklearn import model_selection as Ms\n",
        "import nltk\n",
        "from nltk.stem import WordNetLemmatizer\n",
        "from nltk.corpus import words\n",
        "from nltk.metrics.distance import jaccard_distance\n",
        "from nltk.util import ngrams\n",
        "from nltk.metrics.distance  import edit_distance\n",
        "import imblearn\n",
        "from imblearn.under_sampling import RandomUnderSampler\n",
        "nltk.download('wordnet')\n",
        "nltk.download('words')\n",
        "correct_spellings = set(words.words())"
      ],
      "metadata": {
        "colab": {
          "base_uri": "https://localhost:8080/"
        },
        "id": "n1N4-ohDq5cP",
        "outputId": "f624f2ed-401d-430f-d124-5cc7d7d9eb40"
      },
      "execution_count": 2,
      "outputs": [
        {
          "output_type": "stream",
          "name": "stdout",
          "text": [
            "[nltk_data] Downloading package wordnet to /root/nltk_data...\n",
            "[nltk_data]   Package wordnet is already up-to-date!\n",
            "[nltk_data] Downloading package words to /root/nltk_data...\n",
            "[nltk_data]   Package words is already up-to-date!\n"
          ]
        }
      ]
    },
    {
      "cell_type": "code",
      "execution_count": 3,
      "metadata": {
        "colab": {
          "base_uri": "https://localhost:8080/"
        },
        "id": "_74xbHF-tAzF",
        "outputId": "b2be7074-17b5-4af7-e45f-6ce6640cc059"
      },
      "outputs": [
        {
          "output_type": "stream",
          "name": "stdout",
          "text": [
            "Drive already mounted at /content/drive/; to attempt to forcibly remount, call drive.mount(\"/content/drive/\", force_remount=True).\n",
            "/content/drive/My Drive/Cais/SentimentAnalysisFolder\n"
          ]
        }
      ],
      "source": [
        "from google.colab import drive\n",
        "drive.mount('/content/drive/')\n",
        "\n",
        "%cd /content/drive/My Drive/Cais/SentimentAnalysisFolder"
      ]
    },
    {
      "cell_type": "code",
      "source": [
        "rawData = Pandas.read_csv('dataset/data.csv')\n",
        "rawData.head()"
      ],
      "metadata": {
        "colab": {
          "base_uri": "https://localhost:8080/",
          "height": 206
        },
        "id": "976pQIjepoxm",
        "outputId": "0c47a3b9-5a83-457e-9bb5-145b9702f755"
      },
      "execution_count": 4,
      "outputs": [
        {
          "output_type": "execute_result",
          "data": {
            "text/html": [
              "\n",
              "  <div id=\"df-a45cec1e-0896-4340-a7e8-ebfaa1981677\">\n",
              "    <div class=\"colab-df-container\">\n",
              "      <div>\n",
              "<style scoped>\n",
              "    .dataframe tbody tr th:only-of-type {\n",
              "        vertical-align: middle;\n",
              "    }\n",
              "\n",
              "    .dataframe tbody tr th {\n",
              "        vertical-align: top;\n",
              "    }\n",
              "\n",
              "    .dataframe thead th {\n",
              "        text-align: right;\n",
              "    }\n",
              "</style>\n",
              "<table border=\"1\" class=\"dataframe\">\n",
              "  <thead>\n",
              "    <tr style=\"text-align: right;\">\n",
              "      <th></th>\n",
              "      <th>valence</th>\n",
              "      <th>author</th>\n",
              "      <th>tweet</th>\n",
              "    </tr>\n",
              "  </thead>\n",
              "  <tbody>\n",
              "    <tr>\n",
              "      <th>0</th>\n",
              "      <td>0</td>\n",
              "      <td>_TheSpecialOne_</td>\n",
              "      <td>@switchfoot http://twitpic.com/2y1zl - Awww, t...</td>\n",
              "    </tr>\n",
              "    <tr>\n",
              "      <th>1</th>\n",
              "      <td>0</td>\n",
              "      <td>scotthamilton</td>\n",
              "      <td>is upset that he can't update his Facebook by ...</td>\n",
              "    </tr>\n",
              "    <tr>\n",
              "      <th>2</th>\n",
              "      <td>0</td>\n",
              "      <td>mattycus</td>\n",
              "      <td>@Kenichan I dived many times for the ball. Man...</td>\n",
              "    </tr>\n",
              "    <tr>\n",
              "      <th>3</th>\n",
              "      <td>0</td>\n",
              "      <td>ElleCTF</td>\n",
              "      <td>my whole body feels itchy and like its on fire</td>\n",
              "    </tr>\n",
              "    <tr>\n",
              "      <th>4</th>\n",
              "      <td>0</td>\n",
              "      <td>Karoli</td>\n",
              "      <td>@nationwideclass no, it's not behaving at all....</td>\n",
              "    </tr>\n",
              "  </tbody>\n",
              "</table>\n",
              "</div>\n",
              "      <button class=\"colab-df-convert\" onclick=\"convertToInteractive('df-a45cec1e-0896-4340-a7e8-ebfaa1981677')\"\n",
              "              title=\"Convert this dataframe to an interactive table.\"\n",
              "              style=\"display:none;\">\n",
              "        \n",
              "  <svg xmlns=\"http://www.w3.org/2000/svg\" height=\"24px\"viewBox=\"0 0 24 24\"\n",
              "       width=\"24px\">\n",
              "    <path d=\"M0 0h24v24H0V0z\" fill=\"none\"/>\n",
              "    <path d=\"M18.56 5.44l.94 2.06.94-2.06 2.06-.94-2.06-.94-.94-2.06-.94 2.06-2.06.94zm-11 1L8.5 8.5l.94-2.06 2.06-.94-2.06-.94L8.5 2.5l-.94 2.06-2.06.94zm10 10l.94 2.06.94-2.06 2.06-.94-2.06-.94-.94-2.06-.94 2.06-2.06.94z\"/><path d=\"M17.41 7.96l-1.37-1.37c-.4-.4-.92-.59-1.43-.59-.52 0-1.04.2-1.43.59L10.3 9.45l-7.72 7.72c-.78.78-.78 2.05 0 2.83L4 21.41c.39.39.9.59 1.41.59.51 0 1.02-.2 1.41-.59l7.78-7.78 2.81-2.81c.8-.78.8-2.07 0-2.86zM5.41 20L4 18.59l7.72-7.72 1.47 1.35L5.41 20z\"/>\n",
              "  </svg>\n",
              "      </button>\n",
              "      \n",
              "  <style>\n",
              "    .colab-df-container {\n",
              "      display:flex;\n",
              "      flex-wrap:wrap;\n",
              "      gap: 12px;\n",
              "    }\n",
              "\n",
              "    .colab-df-convert {\n",
              "      background-color: #E8F0FE;\n",
              "      border: none;\n",
              "      border-radius: 50%;\n",
              "      cursor: pointer;\n",
              "      display: none;\n",
              "      fill: #1967D2;\n",
              "      height: 32px;\n",
              "      padding: 0 0 0 0;\n",
              "      width: 32px;\n",
              "    }\n",
              "\n",
              "    .colab-df-convert:hover {\n",
              "      background-color: #E2EBFA;\n",
              "      box-shadow: 0px 1px 2px rgba(60, 64, 67, 0.3), 0px 1px 3px 1px rgba(60, 64, 67, 0.15);\n",
              "      fill: #174EA6;\n",
              "    }\n",
              "\n",
              "    [theme=dark] .colab-df-convert {\n",
              "      background-color: #3B4455;\n",
              "      fill: #D2E3FC;\n",
              "    }\n",
              "\n",
              "    [theme=dark] .colab-df-convert:hover {\n",
              "      background-color: #434B5C;\n",
              "      box-shadow: 0px 1px 3px 1px rgba(0, 0, 0, 0.15);\n",
              "      filter: drop-shadow(0px 1px 2px rgba(0, 0, 0, 0.3));\n",
              "      fill: #FFFFFF;\n",
              "    }\n",
              "  </style>\n",
              "\n",
              "      <script>\n",
              "        const buttonEl =\n",
              "          document.querySelector('#df-a45cec1e-0896-4340-a7e8-ebfaa1981677 button.colab-df-convert');\n",
              "        buttonEl.style.display =\n",
              "          google.colab.kernel.accessAllowed ? 'block' : 'none';\n",
              "\n",
              "        async function convertToInteractive(key) {\n",
              "          const element = document.querySelector('#df-a45cec1e-0896-4340-a7e8-ebfaa1981677');\n",
              "          const dataTable =\n",
              "            await google.colab.kernel.invokeFunction('convertToInteractive',\n",
              "                                                     [key], {});\n",
              "          if (!dataTable) return;\n",
              "\n",
              "          const docLinkHtml = 'Like what you see? Visit the ' +\n",
              "            '<a target=\"_blank\" href=https://colab.research.google.com/notebooks/data_table.ipynb>data table notebook</a>'\n",
              "            + ' to learn more about interactive tables.';\n",
              "          element.innerHTML = '';\n",
              "          dataTable['output_type'] = 'display_data';\n",
              "          await google.colab.output.renderOutput(dataTable, element);\n",
              "          const docLink = document.createElement('div');\n",
              "          docLink.innerHTML = docLinkHtml;\n",
              "          element.appendChild(docLink);\n",
              "        }\n",
              "      </script>\n",
              "    </div>\n",
              "  </div>\n",
              "  "
            ],
            "text/plain": [
              "   valence           author                                              tweet\n",
              "0        0  _TheSpecialOne_  @switchfoot http://twitpic.com/2y1zl - Awww, t...\n",
              "1        0    scotthamilton  is upset that he can't update his Facebook by ...\n",
              "2        0         mattycus  @Kenichan I dived many times for the ball. Man...\n",
              "3        0          ElleCTF    my whole body feels itchy and like its on fire \n",
              "4        0           Karoli  @nationwideclass no, it's not behaving at all...."
            ]
          },
          "metadata": {},
          "execution_count": 4
        }
      ]
    },
    {
      "cell_type": "code",
      "source": [
        "#This Block was created with the intention of multiclass classification with imbalanced data rather than binary\n",
        "\n",
        "\n",
        "bigTrain, subDataTest = Ms.train_test_split(rawData, test_size=0.985, stratify=rawData['valence'])\n",
        "#print(len(bigData))\n",
        "#subDataTrain, subDataTest = Ms.train_test_split(bigData, test_size=0.25, stratify=bigData['valence'])\n",
        "#subDataTrain = RandomOverSampler(sampling_strategy=0.5).fit_resample(subDataTrain)\n",
        "\n",
        "\n",
        "y = bigTrain['valence']\n",
        "bigTrain = bigTrain.drop('valence', axis=1)\n",
        "\n",
        "subDataTest = subDataTest[:50000]\n",
        "x = subDataTest[\"valence\"]\n",
        "subDataTest = subDataTest.drop('valence', axis=1)\n",
        "\n",
        "sampler = RandomUnderSampler(random_state=100, replacement=False)\n",
        "subDataTrain, labelsForTrain = sampler.fit_resample(bigTrain, y)\n",
        "subDataTest, labelsForTest = sampler.fit_resample(subDataTest, x)\n",
        "\n",
        "\n",
        "subDataTrain.insert(loc=int(0), column = 'valence', value=labelsForTrain)\n",
        "subDataTest.insert(loc=int(0), column = 'valence', value=labelsForTest)"
      ],
      "metadata": {
        "id": "03UBRxGYxeoP"
      },
      "execution_count": 71,
      "outputs": []
    },
    {
      "cell_type": "code",
      "source": [
        "vectorizer = Keras.layers.TextVectorization(output_mode='int', output_sequence_length=30)\n",
        "lemmatizer = WordNetLemmatizer()\n",
        "corpus = []\n",
        "garbage = [\".\", \"''\", \"' '\", None, '', \"''\", ',']\n",
        "\n",
        "for i in subDataTrain['tweet']:\n",
        "  for word in i.split(' '):\n",
        "      corpus.append(word)\n",
        "\n",
        "cp = set(Numpy.loadtxt('english-dictionary.txt', dtype=str))\n",
        "sp = Numpy.loadtxt('stopwords.txt', dtype=str)\n",
        "zp = []\n",
        "\n",
        "for i in cp:\n",
        "  if i not in sp:\n",
        "    zp.append(i)\n",
        "    #zp.append(lemmatizer.lemmatize(i))\n",
        "\n",
        "zp = Numpy.array(list(zp))\n",
        "\n",
        "vectorizer.adapt(zp)\n",
        "\n",
        "zp = set(zp)\n",
        "\n",
        "vectorizer.get_vocabulary()[:4]"
      ],
      "metadata": {
        "colab": {
          "base_uri": "https://localhost:8080/"
        },
        "id": "jn8yG41Ny6HV",
        "outputId": "f5d66fe8-1855-4996-f706-3b9ea6c9d572"
      },
      "execution_count": 72,
      "outputs": [
        {
          "output_type": "execute_result",
          "data": {
            "text/plain": [
              "['', '[UNK]', 'organizations', 'operations']"
            ]
          },
          "metadata": {},
          "execution_count": 72
        }
      ]
    },
    {
      "cell_type": "code",
      "source": [
        "model = Keras.Sequential()\n",
        "model.add(Keras.layers.Input(shape=(1,), dtype=Tf.string))\n",
        "model.add(vectorizer)\n",
        "model.add(\n",
        "    Keras.layers.Embedding(len(zp) + 2, 5, input_length=30)\n",
        ")\n",
        "model.add(Keras.layers.Bidirectional(Keras.layers.LSTM(20, dropout=0.5)))\n",
        "model.add(Keras.layers.Dense(10, activation='sigmoid'))\n",
        "model.add(Keras.layers.Dense(2, activation='softmax'))\n",
        "model.compile(loss='categorical_crossentropy',optimizer='rmsprop',metrics=['accuracy'])\n",
        "print(model.summary())"
      ],
      "metadata": {
        "colab": {
          "base_uri": "https://localhost:8080/"
        },
        "id": "zxyODG5r95Uk",
        "outputId": "8adfa6c6-3efc-4227-d322-4a482205bd66"
      },
      "execution_count": 81,
      "outputs": [
        {
          "output_type": "stream",
          "name": "stdout",
          "text": [
            "Model: \"sequential_12\"\n",
            "_________________________________________________________________\n",
            " Layer (type)                Output Shape              Param #   \n",
            "=================================================================\n",
            " text_vectorization_5 (TextV  (None, 30)               0         \n",
            " ectorization)                                                   \n",
            "                                                                 \n",
            " embedding_12 (Embedding)    (None, 30, 5)             545945    \n",
            "                                                                 \n",
            " bidirectional_12 (Bidirecti  (None, 40)               4160      \n",
            " onal)                                                           \n",
            "                                                                 \n",
            " dense_24 (Dense)            (None, 10)                410       \n",
            "                                                                 \n",
            " dense_25 (Dense)            (None, 2)                 22        \n",
            "                                                                 \n",
            "=================================================================\n",
            "Total params: 550,537\n",
            "Trainable params: 550,537\n",
            "Non-trainable params: 0\n",
            "_________________________________________________________________\n",
            "None\n"
          ]
        }
      ]
    },
    {
      "cell_type": "code",
      "source": [
        "tweets = []\n",
        "valences = []\n",
        "for i,j in zip(subDataTrain['tweet'], subDataTrain['valence']):\n",
        "  z = ''\n",
        "  i = \"\".join(char for char in i if char.isalnum() or char is ' ')\n",
        "  for c in i.split():\n",
        "    if c.lower() in zp:\n",
        "      c = lemmatizer.lemmatize(c.lower())\n",
        "      z = z + ' ' + c\n",
        "    #else:\n",
        "      #predictivehacks.com for this segment of code\n",
        "      #try:\n",
        "      #  temp = [(edit_distance(c.lower(), w),w) for w in correct_spellings if w[0]==c.lower()[0]]\n",
        "      #  l = min(temp, key = lambda val:val[0], default='!!')[1]\n",
        "      #except:\n",
        "      #  pass\n",
        "      #end segment\n",
        "      #if l is not '!':\n",
        "      #  print(c + ' was translated to ' + l)\n",
        "      #  z = z + ' ' + lemmatizer.lemmatize(l)\n",
        "      \n",
        "\n",
        "  if z is not '': \n",
        "    tweets.append(z)\n",
        "    valences.append(j)\n",
        "\n",
        "tweets = Numpy.array(tweets)\n",
        "valences = Numpy.array(valences)\n",
        "\n",
        "mapping = {0:0, 4:1}\n",
        "\n",
        "encodedStuff = [ mapping[i] for i in valences ]\n",
        "encodedStuff = Numpy.array(encodedStuff)\n",
        "\n"
      ],
      "metadata": {
        "id": "rwYDR0UamYSL"
      },
      "execution_count": 82,
      "outputs": []
    },
    {
      "cell_type": "code",
      "source": [
        "goodStuff = Keras.utils.to_categorical(encodedStuff)\n",
        "print(len(tweets))\n",
        "model.fit(tweets, goodStuff, epochs=5, verbose=2,validation_split=0.2)"
      ],
      "metadata": {
        "colab": {
          "base_uri": "https://localhost:8080/"
        },
        "id": "i5PICmZ_IyZJ",
        "outputId": "90c1d05d-2063-4c26-8e23-8c4a22b3060d"
      },
      "execution_count": 83,
      "outputs": [
        {
          "output_type": "stream",
          "name": "stdout",
          "text": [
            "23128\n",
            "Epoch 1/5\n",
            "579/579 - 17s - loss: 0.6434 - accuracy: 0.6385 - val_loss: 0.6227 - val_accuracy: 0.8299 - 17s/epoch - 29ms/step\n",
            "Epoch 2/5\n",
            "579/579 - 12s - loss: 0.5563 - accuracy: 0.7152 - val_loss: 0.7134 - val_accuracy: 0.6554 - 12s/epoch - 20ms/step\n",
            "Epoch 3/5\n",
            "579/579 - 12s - loss: 0.5170 - accuracy: 0.7477 - val_loss: 0.6666 - val_accuracy: 0.6788 - 12s/epoch - 21ms/step\n",
            "Epoch 4/5\n",
            "579/579 - 12s - loss: 0.5010 - accuracy: 0.7598 - val_loss: 0.7983 - val_accuracy: 0.5223 - 12s/epoch - 20ms/step\n",
            "Epoch 5/5\n",
            "579/579 - 12s - loss: 0.4911 - accuracy: 0.7663 - val_loss: 0.7150 - val_accuracy: 0.6407 - 12s/epoch - 21ms/step\n"
          ]
        },
        {
          "output_type": "execute_result",
          "data": {
            "text/plain": [
              "<keras.callbacks.History at 0x7f64db8aa110>"
            ]
          },
          "metadata": {},
          "execution_count": 83
        }
      ]
    },
    {
      "cell_type": "code",
      "source": [
        "model.predict([\"not bad far from great im not happy\"])"
      ],
      "metadata": {
        "colab": {
          "base_uri": "https://localhost:8080/"
        },
        "id": "ZDYCQPCaqlA8",
        "outputId": "9b8cf5eb-1a4f-45a9-8be4-8d5a66ef236d"
      },
      "execution_count": 84,
      "outputs": [
        {
          "output_type": "execute_result",
          "data": {
            "text/plain": [
              "array([[0.80363303, 0.1963669 ]], dtype=float32)"
            ]
          },
          "metadata": {},
          "execution_count": 84
        }
      ]
    },
    {
      "cell_type": "code",
      "source": [
        "tweets = []\n",
        "valences = []\n",
        "for i,j in zip(subDataTest['tweet'], subDataTest['valence']):\n",
        "  z = ''\n",
        "  for c in i.split():\n",
        "    if c.lower() in correct_spellings:\n",
        "      if c.lower() not in sp:\n",
        "        c = lemmatizer.lemmatize(c.lower())\n",
        "        z = z + ' ' + c\n",
        "\n",
        "  if z is not '':  \n",
        "    tweets.append(z)\n",
        "    valences.append(j)\n",
        "\n",
        "tweets = Numpy.array(tweets)\n",
        "valences = Numpy.array(valences)\n",
        "\n",
        "stuff = [ mapping[i] for i in valences ]\n",
        "stuff = Numpy.array(stuff)\n",
        "stuff = Keras.utils.to_categorical(stuff)\n"
      ],
      "metadata": {
        "id": "R1MSPjk7OxAU"
      },
      "execution_count": 85,
      "outputs": []
    },
    {
      "cell_type": "code",
      "source": [
        "score, acc = model.evaluate(tweets[:50000], stuff[:50000], verbose=2)"
      ],
      "metadata": {
        "colab": {
          "base_uri": "https://localhost:8080/"
        },
        "id": "3SnNp31ETEGj",
        "outputId": "dc6b41de-ea2d-4f93-e808-8c095f1279d0"
      },
      "execution_count": 86,
      "outputs": [
        {
          "output_type": "stream",
          "name": "stdout",
          "text": [
            "1414/1414 - 7s - loss: 0.5838 - accuracy: 0.6912 - 7s/epoch - 5ms/step\n"
          ]
        }
      ]
    }
  ]
}